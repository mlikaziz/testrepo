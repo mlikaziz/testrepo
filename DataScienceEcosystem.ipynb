{
 "cells": [
  {
   "cell_type": "markdown",
   "id": "c10ce3bc-26fc-475a-8081-1de3d72f799d",
   "metadata": {},
   "source": [
    "# Data Science Tools and Ecosystem"
   ]
  },
  {
   "cell_type": "markdown",
   "id": "c771d301-8bf0-4502-9248-7f6b2c2f17f5",
   "metadata": {},
   "source": [
    "In this notebook, Data Science Tools and Ecosystem are summarized."
   ]
  },
  {
   "cell_type": "markdown",
   "id": "9dc2fa66-b12d-40b1-97cd-a9bfd4b30321",
   "metadata": {},
   "source": [
    "**Objectives:**\n",
    "\n",
    "- List popular languages for Data Science\n",
    "- List commonly used libraries in Data Science\n",
    "- Create a table of development environment open source tools\n",
    "- Demonstrate arithmetic expressions in Python\n",
    "- Convert minutes to hours using a Python expression"
   ]
  },
  {
   "cell_type": "markdown",
   "id": "48e0d0ab-8267-4309-bad2-19dbe5b8ef06",
   "metadata": {},
   "source": [
    "Some of the popular languages that Data Scientists use are:\n",
    "\n",
    "1. **Python**\n",
    "2. **R**\n",
    "3. **SQL**"
   ]
  },
  {
   "cell_type": "markdown",
   "id": "97076c63-b352-4f16-8178-a1e81aa99159",
   "metadata": {},
   "source": [
    "Some of the commonly used libraries used by Data Scientists include:\r\n",
    "\r\n",
    "1. **Pandas** - for data manipulation and analysis.\r\n",
    "2. **NumPy** - for numerical computations.\r\n",
    "3. **Matplotlib** - for data visualization.\r\n",
    "4. **Scikit-learn** - for machine learning.\r\n",
    "5. **TensorFlow** - for deep learning."
   ]
  },
  {
   "cell_type": "markdown",
   "id": "dbdf4e83-b610-4a9c-89f2-6d8383f080a6",
   "metadata": {},
   "source": [
    "| Data Science Tools         |\r\n",
    "|----------------------------|\r\n",
    "| Jupyter Notebook           |\r\n",
    "| RStudio                    |\r\n",
    "| Apache Zeppelin            |\r\n"
   ]
  },
  {
   "cell_type": "markdown",
   "id": "13faccb8-2805-46ab-9132-77f4ce681aed",
   "metadata": {},
   "source": [
    "### Below are a few examples of evaluating arithmetic expressions in Python.\r\n",
    "\r\n",
    "1. Addition: `5 + 3 = 8`\r\n",
    "2. Subtraction: `10 - 4 = 6`\r\n",
    "3. Multiplication: `7 * 6 = 42`\r\n",
    "4. Division: `20 / 5 = 4.0`\r\n",
    "5. Exponentiation: `2 ** 3 = 8`\r\n",
    "6. Modulus: `10 %3 = 1`\r\n"
   ]
  },
  {
   "cell_type": "code",
   "execution_count": 3,
   "id": "259409f3-5a87-4cd5-bd4d-f0d95c0829a8",
   "metadata": {},
   "outputs": [
    {
     "data": {
      "text/plain": [
       "17"
      ]
     },
     "execution_count": 3,
     "metadata": {},
     "output_type": "execute_result"
    }
   ],
   "source": [
    "# This is a simple arithmetic expression to multiply then add integers.\n",
    "result = (3 * 4) + 5\n",
    "result\n"
   ]
  },
  {
   "cell_type": "code",
   "execution_count": 4,
   "id": "c814f993-3d53-4dde-bfbb-22048e287389",
   "metadata": {},
   "outputs": [
    {
     "data": {
      "text/plain": [
       "3.3333333333333335"
      ]
     },
     "execution_count": 4,
     "metadata": {},
     "output_type": "execute_result"
    }
   ],
   "source": [
    "# This will convert 200 minutes to hours by dividing by 60.\n",
    "hours = 200 / 60\n",
    "hours\n"
   ]
  },
  {
   "cell_type": "markdown",
   "id": "a22a944d-0c1d-41d9-94f2-6ad105ffc12e",
   "metadata": {},
   "source": [
    "## Author\n",
    "Mohamed Aziz Mlika"
   ]
  }
 ],
 "metadata": {
  "kernelspec": {
   "display_name": "Python 3 (ipykernel)",
   "language": "python",
   "name": "python3"
  },
  "language_info": {
   "codemirror_mode": {
    "name": "ipython",
    "version": 3
   },
   "file_extension": ".py",
   "mimetype": "text/x-python",
   "name": "python",
   "nbconvert_exporter": "python",
   "pygments_lexer": "ipython3",
   "version": "3.11.7"
  }
 },
 "nbformat": 4,
 "nbformat_minor": 5
}
